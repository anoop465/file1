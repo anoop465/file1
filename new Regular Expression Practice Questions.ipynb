{
 "cells": [
  {
   "cell_type": "markdown",
   "id": "a1ac7db3",
   "metadata": {},
   "source": [
    "# Regular Expression Practice Questions"
   ]
  },
  {
   "cell_type": "markdown",
   "id": "c6a54ce7",
   "metadata": {},
   "source": [
    "\n",
    "Question 1- Write a RegEx pattern in python program to check that a string contains only a certain set of characters (in this case a-z, A-Z and 0-9).\n"
   ]
  },
  {
   "cell_type": "code",
   "execution_count": 12,
   "id": "ca29502c",
   "metadata": {},
   "outputs": [
    {
     "name": "stdout",
     "output_type": "stream",
     "text": [
      "Enter the string ???\n",
      "In_Valid String\n"
     ]
    }
   ],
   "source": [
    "import re\n",
    "pattern = \"[a-zA-Z0-9]\"\n",
    "input_string = input(\"Enter the string \")\n",
    "\n",
    "if is_valid_string(input_string):\n",
    "    print(\"Valid String\")\n",
    "else:\n",
    "    print(\"In_Valid String\")"
   ]
  },
  {
   "cell_type": "markdown",
   "id": "84eac049",
   "metadata": {},
   "source": [
    "Question 2- Write a RegEx pattern string that has an a followed by zero or more b's"
   ]
  },
  {
   "cell_type": "code",
   "execution_count": 18,
   "id": "93a8c25e",
   "metadata": {},
   "outputs": [
    {
     "name": "stdout",
     "output_type": "stream",
     "text": [
      "Not matched\n",
      "Not matched\n",
      " match\n",
      " match\n",
      " match\n"
     ]
    }
   ],
   "source": [
    "import re\n",
    "\n",
    "def text_match(text):\n",
    "        patterns = '^a(b*)$'\n",
    "        if re.search(patterns,  text):\n",
    "                return ' match'\n",
    "        else:\n",
    "                return('Not matched')\n",
    "print(text_match(\"ac\"))\n",
    "print(text_match(\"abc\"))\n",
    "print(text_match(\"a\"))\n",
    "print(text_match(\"ab\"))\n",
    "print(text_match(\"abb\"))"
   ]
  },
  {
   "cell_type": "markdown",
   "id": "8e35a76b",
   "metadata": {},
   "source": [
    "Question 3-  Write a RegEx pattern that matches a string that has an a followed by one or more b's"
   ]
  },
  {
   "cell_type": "code",
   "execution_count": 14,
   "id": "f5d3770f",
   "metadata": {},
   "outputs": [
    {
     "name": "stdout",
     "output_type": "stream",
     "text": [
      "Not matched\n",
      " match\n",
      "Not matched\n",
      " match\n",
      " match\n"
     ]
    }
   ],
   "source": [
    "import re\n",
    "\n",
    "def text_match(text):\n",
    "        patterns = 'ab+?'\n",
    "        if re.search(patterns,  text):\n",
    "                return ' match'\n",
    "        else:\n",
    "                return('Not matched')\n",
    "print(text_match(\"ac\"))\n",
    "print(text_match(\"abc\"))\n",
    "print(text_match(\"a\"))\n",
    "print(text_match(\"ab\"))\n",
    "print(text_match(\"ab\"))"
   ]
  },
  {
   "cell_type": "markdown",
   "id": "de5ade1a",
   "metadata": {},
   "source": [
    "Question 4- Write a RegEx pattern that matches a string that has an a followed by zero or one 'b'."
   ]
  },
  {
   "cell_type": "code",
   "execution_count": 15,
   "id": "692dbfdb",
   "metadata": {},
   "outputs": [
    {
     "name": "stdout",
     "output_type": "stream",
     "text": [
      "Not matched\n",
      " match\n",
      "Not matched\n",
      " match\n",
      " match\n"
     ]
    }
   ],
   "source": [
    "import re\n",
    "\n",
    "def text_match(text):\n",
    "        patterns = 'ab+?'\n",
    "        if re.search(patterns,  text):\n",
    "                return ' match'\n",
    "        else:\n",
    "                return('Not matched')\n",
    "print(text_match(\"ac\"))\n",
    "print(text_match(\"abc\"))\n",
    "print(text_match(\"a\"))\n",
    "print(text_match(\"ab\"))\n",
    "print(text_match(\"ab\"))"
   ]
  },
  {
   "cell_type": "markdown",
   "id": "4119b960",
   "metadata": {},
   "source": [
    "Question 5- Write a RegEx pattern in python program that matches a string that has an a followed by three 'b'."
   ]
  },
  {
   "cell_type": "code",
   "execution_count": 19,
   "id": "bf4a4ca5",
   "metadata": {},
   "outputs": [
    {
     "name": "stdout",
     "output_type": "stream",
     "text": [
      "Not matched\n",
      "Not matched\n",
      " match\n",
      " match\n",
      " match\n",
      "Not matched\n"
     ]
    }
   ],
   "source": [
    "import re\n",
    "def text_match(text):\n",
    "        patterns = 'ab{3}'\n",
    "        if re.search(patterns,  text):\n",
    "                return ' match'\n",
    "        else:\n",
    "                return('Not matched')\n",
    "print(text_match(\"ac\"))\n",
    "print(text_match(\"abc\"))\n",
    "print(text_match(\"abbbc\"))\n",
    "print(text_match(\"aaabbbcc\"))\n",
    "print(text_match(\"abbbb\"))\n",
    "print(text_match(\"c\"))"
   ]
  },
  {
   "cell_type": "markdown",
   "id": "80b86c9f",
   "metadata": {},
   "source": [
    "Question 6- Write a RegEx pattern in python program that matches a string that has an a followed by two to three 'b'."
   ]
  },
  {
   "cell_type": "code",
   "execution_count": 21,
   "id": "e8520ea6",
   "metadata": {},
   "outputs": [
    {
     "name": "stdout",
     "output_type": "stream",
     "text": [
      "Not matched\n",
      "Not matched\n",
      " match\n",
      " match\n",
      " match\n",
      " match\n"
     ]
    }
   ],
   "source": [
    "import re\n",
    "def text_match(text):\n",
    "        patterns = 'ab{2,3}'\n",
    "        if re.search(patterns,  text):\n",
    "                return ' match'\n",
    "        else:\n",
    "                return('Not matched')\n",
    "print(text_match(\"ac\"))\n",
    "print(text_match(\"abc\"))\n",
    "print(text_match(\"abbbc\"))\n",
    "print(text_match(\"aaabbbcc\"))\n",
    "print(text_match(\"abbbb\"))\n",
    "print(text_match(\"abbc\"))"
   ]
  },
  {
   "cell_type": "markdown",
   "id": "357a27ad",
   "metadata": {},
   "source": [
    "Question 7- Write a Python program that matches a string that has an 'a' followed by anything, ending in 'b'."
   ]
  },
  {
   "cell_type": "code",
   "execution_count": 22,
   "id": "fd30cd78",
   "metadata": {},
   "outputs": [
    {
     "name": "stdout",
     "output_type": "stream",
     "text": [
      "Not matched\n",
      "Not matched\n",
      " match\n",
      " match\n",
      " match\n",
      " match\n"
     ]
    }
   ],
   "source": [
    "import re\n",
    "def text_match(text):\n",
    "        patterns = 'ab{2,3}'\n",
    "        if re.search(patterns,  text):\n",
    "                return ' match'\n",
    "        else:\n",
    "                return('Not matched')\n",
    "print(text_match(\"ac\"))\n",
    "print(text_match(\"abc\"))\n",
    "print(text_match(\"abbbc\"))\n",
    "print(text_match(\"aaabbbcc\"))\n",
    "print(text_match(\"abbbb\"))\n",
    "print(text_match(\"abbc\"))"
   ]
  },
  {
   "cell_type": "markdown",
   "id": "78965421",
   "metadata": {},
   "source": [
    "Question 8- Write a RegEx pattern in python program that matches a word at the beginning of a string."
   ]
  },
  {
   "cell_type": "code",
   "execution_count": 23,
   "id": "d7b57ea7",
   "metadata": {},
   "outputs": [
    {
     "name": "stdout",
     "output_type": "stream",
     "text": [
      " match\n",
      "Not matched\n"
     ]
    }
   ],
   "source": [
    "import re\n",
    "def text_match(text):\n",
    "        patterns = '^\\w+'\n",
    "        if re.search(patterns,  text):\n",
    "                return ' match'\n",
    "        else:\n",
    "                return('Not matched')\n",
    "print(text_match(\"Today virat KOHLI Played well. He scored 100 only 76 Balls\"))\n",
    "print(text_match(\" Today virat KOHLI Played well. He scored 100 only 76 Balls \"))"
   ]
  },
  {
   "cell_type": "markdown",
   "id": "7eb0f137",
   "metadata": {},
   "source": [
    "Question 9- Write a RegEx pattern in python program that matches a word at the end of a string."
   ]
  },
  {
   "cell_type": "code",
   "execution_count": 24,
   "id": "25f5e7c0",
   "metadata": {},
   "outputs": [
    {
     "name": "stdout",
     "output_type": "stream",
     "text": [
      " match\n",
      "Not matched\n"
     ]
    }
   ],
   "source": [
    "import re\n",
    "def text_match(text):\n",
    "        patterns = '\\w+\\S*$'\n",
    "        if re.search(patterns,  text):\n",
    "                return ' match'\n",
    "        else:\n",
    "                return('Not matched')\n",
    "print(text_match(\"Today virat KOHLI Played well. He scored 100 only 76 Balls\"))\n",
    "print(text_match(\" Today virat KOHLI Played well. He scored 100 only 76 Balls \"))"
   ]
  },
  {
   "cell_type": "markdown",
   "id": "309055b0",
   "metadata": {},
   "source": [
    "Question 10- Write a RegEx pattern in python program to find all words that are 4 digits long in a string.\n",
    "Sample text- '01 0132 231875 1458 301 2725.'\n",
    "Expected output- ['0132', '1458', '2725']\n"
   ]
  },
  {
   "cell_type": "code",
   "execution_count": 25,
   "id": "6f2e7041",
   "metadata": {},
   "outputs": [
    {
     "name": "stdout",
     "output_type": "stream",
     "text": [
      "Match Object: ['0132', '1458', '2725']\n"
     ]
    }
   ],
   "source": [
    "import re\n",
    "test = '01 0132 231875 1458 301 2725'\n",
    "result = re.findall(r\"\\b\\w{4}\\b\",test)\n",
    "print(\"Match Object:\",result)"
   ]
  },
  {
   "cell_type": "code",
   "execution_count": null,
   "id": "ccb55e10",
   "metadata": {},
   "outputs": [],
   "source": []
  }
 ],
 "metadata": {
  "kernelspec": {
   "display_name": "Python 3 (ipykernel)",
   "language": "python",
   "name": "python3"
  },
  "language_info": {
   "codemirror_mode": {
    "name": "ipython",
    "version": 3
   },
   "file_extension": ".py",
   "mimetype": "text/x-python",
   "name": "python",
   "nbconvert_exporter": "python",
   "pygments_lexer": "ipython3",
   "version": "3.9.13"
  }
 },
 "nbformat": 4,
 "nbformat_minor": 5
}
